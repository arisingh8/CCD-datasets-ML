{
 "cells": [
  {
   "cell_type": "code",
   "execution_count": 1,
   "metadata": {},
   "outputs": [],
   "source": [
    "import pandas as pd\n",
    "from pathlib import Path\n",
    "from sklearn.model_selection import train_test_split\n",
    "from cuml.neighbors import NearestNeighbors\n",
    "from imblearn.under_sampling import EditedNearestNeighbours\n",
    "from collections import Counter\n",
    "from cuml.preprocessing.TargetEncoder import TargetEncoder\n",
    "from sklearn.preprocessing import LabelEncoder\n",
    "import gc\n",
    "from tqdm.auto import tqdm"
   ]
  },
  {
   "cell_type": "code",
   "execution_count": 2,
   "metadata": {},
   "outputs": [],
   "source": [
    "def save_balanced_test_train(path, drop_cols=['traffic_type'], target_col=\"traffic_type\", cat_features=None):\n",
    "    df = pd.read_parquet(path)\n",
    "    X = df.drop(drop_cols, axis=1)\n",
    "    y = df[target_col].astype(\"category\")\n",
    "    del df\n",
    "\n",
    "    X_train, X_test, y_train, y_test = train_test_split(X, y, test_size=0.2, stratify=y, random_state=42)\n",
    "    del X, y\n",
    "\n",
    "    print(\"Shape of X_train before balancing:\")\n",
    "    print(X_train.shape)\n",
    "\n",
    "    print(\"Distribution of classes before balancing\")\n",
    "    print(dict(Counter(y_train)))\n",
    "\n",
    "    print(\"Balancing now\")\n",
    "    enn = EditedNearestNeighbours(\n",
    "        sampling_strategy=\"majority\",\n",
    "        n_neighbors=NearestNeighbors(n_neighbors=3),\n",
    "        kind_sel=\"mode\"\n",
    "    )\n",
    "    X_balanced, y_balanced = enn.fit_resample(X_train, y_train)\n",
    "    del X_train, y_train\n",
    "\n",
    "    print(\"Shape of X_train after balancing:\")\n",
    "    print(X_balanced.shape)\n",
    "\n",
    "    print(\"Distribution of classes after balancing\")\n",
    "    print(dict(Counter(y_balanced)))\n",
    "    \n",
    "    if cat_features is not None:\n",
    "        X_test.reset_index(drop=True, inplace=True)\n",
    "        y_test.reset_index(drop=True, inplace=True)\n",
    "\n",
    "        FOLDS = 10\n",
    "        SMOOTH = 0.001\n",
    "        print(\"Starting target encode on categorical columns\")\n",
    "        for col in tqdm(cat_features):\n",
    "            encoder = TargetEncoder(n_folds=FOLDS, smooth=SMOOTH)\n",
    "\n",
    "            X_balanced[col] = pd.Series(encoder.fit_transform(X_balanced[col].to_numpy(), y_balanced.cat.codes))\n",
    "            X_test[col] = pd.Series(encoder.transform(X_test[col].to_numpy()))\n",
    "\n",
    "    pd.concat([X_balanced, y_balanced.rename(\"traffic_type\")], axis=1).to_parquet(path.parent / (path.stem + \"_train.parquet\"))\n",
    "    del X_balanced, y_balanced\n",
    "    pd.concat([X_test, y_test.rename(\"traffic_type\")], axis=1).to_parquet(path.parent / (path.stem + \"_test.parquet\"))\n",
    "    del X_test, y_test\n",
    "    gc.collect()"
   ]
  },
  {
   "cell_type": "code",
   "execution_count": 3,
   "metadata": {},
   "outputs": [
    {
     "name": "stdout",
     "output_type": "stream",
     "text": [
      "Shape of X_train before balancing:\n",
      "(814638, 115)\n",
      "Distribution of classes before balancing\n",
      "{'bl_junk': 23255, 'mirai_ack': 81756, 'bl_udp': 84699, 'bl_combo': 47774, 'mirai_udp': 190132, 'benign': 39638, 'mirai_syn': 98058, 'mirai_scan': 86148, 'mirai_udpplain': 65586, 'bl_scan': 23879, 'bl_tcp': 73713}\n",
      "Balancing now\n",
      "[I] [01:48:42.259266] Unused keyword parameter: n_jobs during cuML estimator initialization\n",
      "Shape of X_train after balancing:\n",
      "(720665, 115)\n",
      "Distribution of classes after balancing\n",
      "{'benign': 39638, 'bl_combo': 47774, 'bl_junk': 23255, 'bl_scan': 23879, 'bl_tcp': 73713, 'bl_udp': 84699, 'mirai_ack': 81756, 'mirai_scan': 86148, 'mirai_syn': 98058, 'mirai_udp': 96159, 'mirai_udpplain': 65586}\n"
     ]
    }
   ],
   "source": [
    "save_balanced_test_train(Path(\"data/BaIoT/danmini_multiclass.parquet\"))"
   ]
  },
  {
   "cell_type": "code",
   "execution_count": 4,
   "metadata": {},
   "outputs": [
    {
     "name": "stdout",
     "output_type": "stream",
     "text": [
      "Shape of X_train before balancing:\n",
      "(814638, 115)\n",
      "Distribution of classes before balancing\n",
      "{'malicious': 775000, 'benign': 39638}\n",
      "Balancing now\n",
      "[I] [01:49:16.084399] Unused keyword parameter: n_jobs during cuML estimator initialization\n",
      "Shape of X_train after balancing:\n",
      "(813932, 115)\n",
      "Distribution of classes after balancing\n",
      "{'benign': 39638, 'malicious': 774294}\n"
     ]
    }
   ],
   "source": [
    "save_balanced_test_train(Path(\"data/BaIoT/danmini_binary.parquet\"))"
   ]
  },
  {
   "cell_type": "code",
   "execution_count": 5,
   "metadata": {},
   "outputs": [
    {
     "name": "stdout",
     "output_type": "stream",
     "text": [
      "Shape of X_train before balancing:\n",
      "(927392, 34)\n",
      "Distribution of classes before balancing\n",
      "{'malicious': 199749, 'benign': 727643}\n",
      "Balancing now\n",
      "[I] [01:50:29.858825] Unused keyword parameter: n_jobs during cuML estimator initialization\n",
      "Shape of X_train after balancing:\n",
      "(923229, 34)\n",
      "Distribution of classes after balancing\n",
      "{'benign': 723480, 'malicious': 199749}\n",
      "Starting target encode on categorical columns\n"
     ]
    },
    {
     "data": {
      "application/vnd.jupyter.widget-view+json": {
       "model_id": "8824747e158d4c54988e7d4078165a33",
       "version_major": 2,
       "version_minor": 0
      },
      "text/plain": [
       "  0%|          | 0/5 [00:00<?, ?it/s]"
      ]
     },
     "metadata": {},
     "output_type": "display_data"
    }
   ],
   "source": [
    "save_balanced_test_train(Path(\"data/DoHBrw/binary.parquet\"), cat_features=['SourceIP', 'DestinationIP', 'SourcePort', 'DestinationPort', 'DoH'])"
   ]
  },
  {
   "cell_type": "code",
   "execution_count": 6,
   "metadata": {},
   "outputs": [
    {
     "name": "stdout",
     "output_type": "stream",
     "text": [
      "Shape of X_train before balancing:\n",
      "(927392, 34)\n",
      "Distribution of classes before balancing\n",
      "{'benign': 727643, 'dns2tcp': 133854, 'dnscat2': 28661, 'iodine': 37234}\n",
      "Balancing now\n",
      "[I] [01:51:02.505382] Unused keyword parameter: n_jobs during cuML estimator initialization\n",
      "Shape of X_train after balancing:\n",
      "(923281, 34)\n",
      "Distribution of classes after balancing\n",
      "{'benign': 723532, 'dns2tcp': 133854, 'dnscat2': 28661, 'iodine': 37234}\n",
      "Starting target encode on categorical columns\n"
     ]
    },
    {
     "data": {
      "application/vnd.jupyter.widget-view+json": {
       "model_id": "9785c7842ebe40559cda303c2745af4a",
       "version_major": 2,
       "version_minor": 0
      },
      "text/plain": [
       "  0%|          | 0/5 [00:00<?, ?it/s]"
      ]
     },
     "metadata": {},
     "output_type": "display_data"
    }
   ],
   "source": [
    "save_balanced_test_train(Path(\"data/DoHBrw/multiclass.parquet\"), cat_features=['SourceIP', 'DestinationIP', 'SourcePort', 'DestinationPort', 'DoH'])"
   ]
  },
  {
   "cell_type": "code",
   "execution_count": 7,
   "metadata": {},
   "outputs": [
    {
     "name": "stdout",
     "output_type": "stream",
     "text": [
      "Shape of X_train before balancing:\n",
      "(73332, 81)\n",
      "Distribution of classes before balancing\n",
      "{'normal': 37785, 'attack': 35547}\n",
      "Balancing now\n",
      "[I] [01:51:32.224007] Unused keyword parameter: n_jobs during cuML estimator initialization\n",
      "Shape of X_train after balancing:\n",
      "(73332, 81)\n",
      "Distribution of classes after balancing\n",
      "{'attack': 35547, 'normal': 37785}\n",
      "Starting target encode on categorical columns\n"
     ]
    },
    {
     "data": {
      "application/vnd.jupyter.widget-view+json": {
       "model_id": "784d80371a9f4b01b6db0cf3369936ac",
       "version_major": 2,
       "version_minor": 0
      },
      "text/plain": [
       "  0%|          | 0/18 [00:00<?, ?it/s]"
      ]
     },
     "metadata": {},
     "output_type": "display_data"
    }
   ],
   "source": [
    "save_balanced_test_train(Path(\"data/CCD-INIDv1/binary.parquet\"), cat_features=['expiration_id', 'src_ip', 'src_ip_is_private', \n",
    "                                                                               'src_port', 'dst_ip', 'dst_ip_is_private', \n",
    "                                                                               'dst_port', 'protocol', 'ip_version', 'vlan_id',\n",
    "                                                                               'application_name', 'application_category_name', 'application_is_guessed',\n",
    "                                                                               'requested_server_name', 'client_fingerprint',\n",
    "                                                                               'splt_direction', 'splt_ps', 'splt_piat_ms'])"
   ]
  },
  {
   "cell_type": "code",
   "execution_count": 8,
   "metadata": {},
   "outputs": [
    {
     "name": "stdout",
     "output_type": "stream",
     "text": [
      "Shape of X_train before balancing:\n",
      "(73332, 81)\n",
      "Distribution of classes before balancing\n",
      "{'none': 37785, 'arp_dos': 9255, 'mitm': 6139, 'hydra_brute': 8454, 'udp_dos': 3935, 'slowloris': 7764}\n",
      "Balancing now\n",
      "[I] [01:51:34.374873] Unused keyword parameter: n_jobs during cuML estimator initialization\n",
      "Shape of X_train after balancing:\n",
      "(73332, 81)\n",
      "Distribution of classes after balancing\n",
      "{'arp_dos': 9255, 'hydra_brute': 8454, 'mitm': 6139, 'none': 37785, 'slowloris': 7764, 'udp_dos': 3935}\n",
      "Starting target encode on categorical columns\n"
     ]
    },
    {
     "data": {
      "application/vnd.jupyter.widget-view+json": {
       "model_id": "66f7d69197c34b7bb313c8737781f58e",
       "version_major": 2,
       "version_minor": 0
      },
      "text/plain": [
       "  0%|          | 0/18 [00:00<?, ?it/s]"
      ]
     },
     "metadata": {},
     "output_type": "display_data"
    }
   ],
   "source": [
    "save_balanced_test_train(Path(\"data/CCD-INIDv1/multiclass.parquet\"), drop_cols=['atk_type'], \n",
    "                         target_col='atk_type', cat_features=['expiration_id', 'src_ip', 'src_ip_is_private', \n",
    "                                                                               'src_port', 'dst_ip', 'dst_ip_is_private', \n",
    "                                                                               'dst_port', 'protocol', 'ip_version', 'vlan_id',\n",
    "                                                                               'application_name', 'application_category_name', 'application_is_guessed',\n",
    "                                                                               'requested_server_name', 'client_fingerprint',\n",
    "                                                                               'splt_direction', 'splt_ps', 'splt_piat_ms'])"
   ]
  }
 ],
 "metadata": {
  "kernelspec": {
   "display_name": "ccd",
   "language": "python",
   "name": "python3"
  },
  "language_info": {
   "codemirror_mode": {
    "name": "ipython",
    "version": 3
   },
   "file_extension": ".py",
   "mimetype": "text/x-python",
   "name": "python",
   "nbconvert_exporter": "python",
   "pygments_lexer": "ipython3",
   "version": "3.10.11"
  },
  "orig_nbformat": 4
 },
 "nbformat": 4,
 "nbformat_minor": 2
}
