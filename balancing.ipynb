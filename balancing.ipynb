{
 "cells": [
  {
   "cell_type": "code",
   "execution_count": 1,
   "metadata": {},
   "outputs": [],
   "source": [
    "import pandas as pd\n",
    "from pathlib import Path\n",
    "from sklearn.model_selection import train_test_split\n",
    "from cuml.neighbors import NearestNeighbors\n",
    "from imblearn.over_sampling import BorderlineSMOTE, SMOTENC\n",
    "from collections import Counter"
   ]
  },
  {
   "cell_type": "code",
   "execution_count": 61,
   "metadata": {},
   "outputs": [],
   "source": [
    "def save_balanced_test_train(path, drop_cols=['traffic_type'], target_col=\"traffic_type\", smote=BorderlineSMOTE(k_neighbors=NearestNeighbors(n_neighbors=5), m_neighbors=NearestNeighbors(n_neighbors=10))):\n",
    "    df = pd.read_parquet(path)\n",
    "    X = df.drop(drop_cols, axis=1)\n",
    "    y = df[target_col]\n",
    "    del df\n",
    "\n",
    "    X_train, X_test, y_train, y_test = train_test_split(X, y, test_size=0.2, stratify=y, random_state=42)\n",
    "    del X, y\n",
    "\n",
    "    print(\"Shape of X_train before balancing:\")\n",
    "    print(X_train.shape)\n",
    "\n",
    "    print(\"Distribution of classes before balancing\")\n",
    "    print(dict(Counter(y_train)))\n",
    "\n",
    "    print(\"Balancing now\")\n",
    "    X_balanced, y_balanced = smote.fit_resample(X_train, y_train)\n",
    "    del X_train, y_train\n",
    "\n",
    "    print(\"Shape of X_train after balancing:\")\n",
    "    print(X_balanced.shape)\n",
    "\n",
    "    print(\"Distribution of classes after balancing\")\n",
    "    print(dict(Counter(y_balanced)))\n",
    "\n",
    "    pd.concat([X_balanced, y_balanced], axis=1).to_parquet(path.parent / (path.stem + \"_train.parquet\"))\n",
    "    del X_balanced, y_balanced\n",
    "    pd.concat([X_test, y_test], axis=1).to_parquet(path.parent / (path.stem + \"_test.parquet\"))\n",
    "    del X_test, y_test"
   ]
  },
  {
   "cell_type": "code",
   "execution_count": 3,
   "metadata": {},
   "outputs": [
    {
     "name": "stdout",
     "output_type": "stream",
     "text": [
      "Shape of X_train before balancing:\n",
      "(814638, 115)\n",
      "Distribution of classes before balancing\n",
      "{'bl_junk': 23255, 'mirai_ack': 81756, 'bl_udp': 84699, 'bl_combo': 47774, 'mirai_udp': 190132, 'benign': 39638, 'mirai_syn': 98058, 'mirai_scan': 86148, 'mirai_udpplain': 65586, 'bl_scan': 23879, 'bl_tcp': 73713}\n",
      "Balancing now\n",
      "[I] [19:47:06.609649] Unused keyword parameter: n_jobs during cuML estimator initialization\n",
      "[I] [19:47:06.609981] Unused keyword parameter: n_jobs during cuML estimator initialization\n",
      "Shape of X_train after balancing:\n",
      "(2091452, 115)\n",
      "Distribution of classes after balancing\n",
      "{'bl_junk': 190132, 'mirai_ack': 190132, 'bl_udp': 190132, 'bl_combo': 190132, 'mirai_udp': 190132, 'benign': 190132, 'mirai_syn': 190132, 'mirai_scan': 190132, 'mirai_udpplain': 190132, 'bl_scan': 190132, 'bl_tcp': 190132}\n"
     ]
    }
   ],
   "source": [
    "save_balanced_test_train(Path(\"data/BaIoT/danmini_multiclass.parquet\"))"
   ]
  },
  {
   "cell_type": "code",
   "execution_count": 4,
   "metadata": {},
   "outputs": [
    {
     "name": "stdout",
     "output_type": "stream",
     "text": [
      "Shape of X_train before balancing:\n",
      "(814638, 115)\n",
      "Distribution of classes before balancing\n",
      "{'malicious': 775000, 'benign': 39638}\n",
      "Balancing now\n",
      "[I] [19:48:41.661612] Unused keyword parameter: n_jobs during cuML estimator initialization\n",
      "[I] [19:48:41.662867] Unused keyword parameter: n_jobs during cuML estimator initialization\n",
      "Shape of X_train after balancing:\n",
      "(1550000, 115)\n",
      "Distribution of classes after balancing\n",
      "{'malicious': 775000, 'benign': 775000}\n"
     ]
    }
   ],
   "source": [
    "save_balanced_test_train(Path(\"data/BaIoT/danmini_binary.parquet\"))"
   ]
  },
  {
   "cell_type": "code",
   "execution_count": 5,
   "metadata": {},
   "outputs": [
    {
     "name": "stdout",
     "output_type": "stream",
     "text": [
      "Shape of X_train before balancing:\n",
      "(927392, 34)\n",
      "Distribution of classes before balancing\n",
      "{'malicious': 199749, 'benign': 727643}\n",
      "Balancing now\n",
      "[I] [19:49:02.972501] Unused keyword parameter: n_jobs during cuML estimator initialization\n",
      "[I] [19:49:04.391752] Unused keyword parameter: n_jobs during cuML estimator initialization\n",
      "Shape of X_train after balancing:\n",
      "(1455286, 34)\n",
      "Distribution of classes after balancing\n",
      "{'malicious': 727643, 'benign': 727643}\n"
     ]
    }
   ],
   "source": [
    "save_balanced_test_train(Path(\"data/DoHBrw/binary.parquet\"), smote=SMOTENC(k_neighbors=NearestNeighbors(n_neighbors=5), categorical_features=[33]))"
   ]
  },
  {
   "cell_type": "code",
   "execution_count": 7,
   "metadata": {},
   "outputs": [
    {
     "name": "stdout",
     "output_type": "stream",
     "text": [
      "Shape of X_train before balancing:\n",
      "(927392, 34)\n",
      "Distribution of classes before balancing\n",
      "{'benign': 727643, 'dns2tcp': 133854, 'dnscat2': 28661, 'iodine': 37234}\n",
      "Balancing now\n",
      "[I] [20:33:34.534668] Unused keyword parameter: n_jobs during cuML estimator initialization\n",
      "[I] [20:33:35.778197] Unused keyword parameter: n_jobs during cuML estimator initialization\n",
      "Shape of X_train after balancing:\n",
      "(2910572, 34)\n",
      "Distribution of classes after balancing\n",
      "{'benign': 727643, 'dns2tcp': 727643, 'dnscat2': 727643, 'iodine': 727643}\n"
     ]
    }
   ],
   "source": [
    "save_balanced_test_train(Path(\"data/DoHBrw/multiclass.parquet\"), smote=SMOTENC(k_neighbors=NearestNeighbors(n_neighbors=5), categorical_features=[33]))"
   ]
  },
  {
   "cell_type": "code",
   "execution_count": 59,
   "metadata": {},
   "outputs": [
    {
     "name": "stdout",
     "output_type": "stream",
     "text": [
      "Shape of X_train before balancing:\n",
      "(73332, 81)\n",
      "Distribution of classes before balancing\n",
      "{1: 37785, 0: 35547}\n",
      "Balancing now\n",
      "[I] [20:47:53.978307] Unused keyword parameter: n_jobs during cuML estimator initialization\n",
      "[I] [20:47:54.203360] Unused keyword parameter: n_jobs during cuML estimator initialization\n",
      "Shape of X_train after balancing:\n",
      "(75570, 81)\n",
      "Distribution of classes after balancing\n",
      "{1: 37785, 0: 37785}\n"
     ]
    }
   ],
   "source": [
    "save_balanced_test_train(Path(\"data/CCD-INIDv1/binary.parquet\"), smote=SMOTENC(k_neighbors=NearestNeighbors(n_neighbors=5), categorical_features=[0, 2, 5, 7, 8, 9, 76, 77, 78, 79, 80]))"
   ]
  },
  {
   "cell_type": "code",
   "execution_count": 62,
   "metadata": {},
   "outputs": [
    {
     "name": "stdout",
     "output_type": "stream",
     "text": [
      "Shape of X_train before balancing:\n",
      "(73332, 81)\n",
      "Distribution of classes before balancing\n",
      "{3: 37785, 0: 9255, 2: 6139, 1: 8454, 5: 3935, 4: 7764}\n",
      "Balancing now\n",
      "[I] [20:48:22.772535] Unused keyword parameter: n_jobs during cuML estimator initialization\n",
      "[I] [20:48:22.986860] Unused keyword parameter: n_jobs during cuML estimator initialization\n",
      "Shape of X_train after balancing:\n",
      "(226710, 81)\n",
      "Distribution of classes after balancing\n",
      "{3: 37785, 0: 37785, 2: 37785, 1: 37785, 5: 37785, 4: 37785}\n"
     ]
    }
   ],
   "source": [
    "save_balanced_test_train(Path(\"data/CCD-INIDv1/multiclass.parquet\"), drop_cols=['atk_type'], target_col='atk_type', smote=SMOTENC(k_neighbors=NearestNeighbors(n_neighbors=5), categorical_features=[0, 2, 5, 7, 8, 9, 76, 77, 78, 79, 80]))"
   ]
  }
 ],
 "metadata": {
  "kernelspec": {
   "display_name": "ccd",
   "language": "python",
   "name": "python3"
  },
  "language_info": {
   "codemirror_mode": {
    "name": "ipython",
    "version": 3
   },
   "file_extension": ".py",
   "mimetype": "text/x-python",
   "name": "python",
   "nbconvert_exporter": "python",
   "pygments_lexer": "ipython3",
   "version": "3.10.11"
  },
  "orig_nbformat": 4
 },
 "nbformat": 4,
 "nbformat_minor": 2
}
