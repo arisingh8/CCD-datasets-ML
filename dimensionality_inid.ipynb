{
 "cells": [
  {
   "cell_type": "code",
   "execution_count": 1,
   "id": "ed170f67-69f0-4285-a620-42605baf43be",
   "metadata": {},
   "outputs": [],
   "source": [
    "import numpy as np\n",
    "from matplotlib import pyplot as plt\n",
    "from tqdm import tqdm\n",
    "import pandas as pd\n",
    "import pickle\n",
    "\n",
    "from sklearn.decomposition import PCA\n",
    "from sklearn.pipeline import Pipeline\n",
    "from sklearn.preprocessing import StandardScaler, LabelEncoder\n",
    "from sklearn.model_selection import KFold\n",
    "from sklearn.model_selection import GridSearchCV\n",
    "\n",
    "from sklearn.base import BaseEstimator, TransformerMixin, clone\n",
    "from sklearn.linear_model import SGDClassifier\n",
    "from sklearn.naive_bayes import GaussianNB\n",
    "from sklearn.neighbors import KNeighborsClassifier\n",
    "from sklearn.discriminant_analysis import LinearDiscriminantAnalysis\n",
    "from sklearn.model_selection import cross_val_score, cross_validate\n",
    "from sklearn.metrics import accuracy_score\n",
    "from sklearn import set_config\n",
    "\n",
    "import xgboost as xgb\n",
    "from xgboost import XGBClassifier\n",
    "\n",
    "import random\n",
    "from deap import base, creator, tools, algorithms\n",
    "from operator import attrgetter, itemgetter\n",
    "import functools\n",
    "import itertools\n",
    "\n",
    "import pyswarms as ps\n",
    "\n",
    "import multiprocessing\n",
    "from joblib import Parallel, delayed"
   ]
  },
  {
   "cell_type": "code",
   "execution_count": 2,
   "id": "30c2daa1-a846-4bf0-876a-b8fbc346c9fa",
   "metadata": {},
   "outputs": [],
   "source": [
    "class PSOTransformer(BaseEstimator, TransformerMixin):\n",
    "    def __init__(self, model, n_particles=10, max_iter=180):\n",
    "        self.model = model\n",
    "        self.n_particles = n_particles\n",
    "        self.max_iter = max_iter\n",
    "    \n",
    "    def fit(self, X, y=None):\n",
    "        self.feature_names_in_ = list(X.columns)\n",
    "        total_features = len(X.columns)\n",
    "        \n",
    "        # Define objective function\n",
    "        def f_per_particle(m, alpha):\n",
    "            \"\"\"Computes for the objective function per particle\n",
    "\n",
    "            Inputs\n",
    "            ------\n",
    "            m : numpy.ndarray\n",
    "                Binary mask that can be obtained from BinaryPSO, will\n",
    "                be used to mask features.\n",
    "            alpha: float (default is 0.5)\n",
    "                Constant weight for trading-off classifier performance\n",
    "                and number of features\n",
    "\n",
    "            Returns\n",
    "            -------\n",
    "            numpy.ndarray\n",
    "                Computed objective function\n",
    "            \"\"\"\n",
    "            # Get the subset of the features from the binary mask\n",
    "            if np.count_nonzero(m) == 0:\n",
    "                X_subset = X\n",
    "            else:\n",
    "                features = [name for name, selected in zip(list(X.columns), m) if selected == 1]\n",
    "                X_subset = X[features]\n",
    "            # Perform classification and store performance in P\n",
    "            classifier = clone(self.model)\n",
    "            classifier.fit(X_subset, y)\n",
    "            P = accuracy_score(y, classifier.predict(X_subset))\n",
    "            # Compute for the objective function\n",
    "            j = (alpha * (1.0 - P)\n",
    "                + (1.0 - alpha) * (1 - (len(X_subset.columns) / total_features)))\n",
    "\n",
    "            return j\n",
    "\n",
    "        def f(x, alpha):\n",
    "            \"\"\"Higher-level method to do classification in the\n",
    "            whole swarm.\n",
    "\n",
    "            Inputs\n",
    "            ------\n",
    "            x: numpy.ndarray of shape (n_particles, dimensions)\n",
    "                The swarm that will perform the search\n",
    "\n",
    "            Returns\n",
    "            -------\n",
    "            numpy.ndarray of shape (n_particles, )\n",
    "                The computed loss for each particle\n",
    "            \"\"\"\n",
    "            j = [f_per_particle(x[i], alpha) for i in range(self.n_particles)]\n",
    "            return np.array(j)\n",
    "        \n",
    "        # Initialize swarm, arbitrary\n",
    "        options = {'c1': 0.5, 'c2': 0.5, 'w':0.9, 'k': self.n_particles, 'p':2}\n",
    "\n",
    "        # Call instance of PSO\n",
    "        optimizer = ps.discrete.BinaryPSO(n_particles=self.n_particles, dimensions=total_features, options=options)\n",
    "\n",
    "        # Perform optimization\n",
    "        cost, pos = optimizer.optimize(functools.partial(f, alpha=0.88), iters=self.max_iter, verbose=2)\n",
    "        \n",
    "        self.best_position = pos\n",
    "        return self\n",
    "    \n",
    "    def transform(self, X, y=None):\n",
    "        features = [name for name, selected in zip(list(X.columns), self.best_position) if selected == 1]\n",
    "        print(len(features), features)\n",
    "        return X[features]\n",
    "    \n",
    "    def get_feature_names_out(self, input_features=None):\n",
    "        if input_features is not None:\n",
    "            return [name for name, selected in zip(input_features, self.best_features) if selected == 1]\n",
    "        else:\n",
    "            return [name for name, selected in zip(self.feature_names_in_, self.best_features) if selected == 1]\n",
    "    \n",
    "    def get_params(self, deep=True):\n",
    "        return {\"model\": self.model}\n",
    "    \n",
    "    def set_params(self, **parameters):\n",
    "        for parameter, value in parameters.items():\n",
    "            setattr(self, parameter, value)\n",
    "        return self"
   ]
  },
  {
   "cell_type": "code",
   "execution_count": 3,
   "id": "eaa87051-160b-4fda-b092-f3c8db1b8487",
   "metadata": {
    "tags": []
   },
   "outputs": [],
   "source": [
    "df = pd.read_csv(\"data/merged_and_edited_dataset.csv\",\n",
    "                dtype={\n",
    "                        \"src_ip\": \"string\",\n",
    "                        \"dst_ip\": \"string\",\n",
    "                        \"client_fingerprint\": \"string\",\n",
    "                        \"application_name\": \"string\",\n",
    "                        \"application_category_name\": \"string\",\n",
    "                        \"requested_server_name\": \"string\",\n",
    "                        \"atk_type\": \"string\",\n",
    "                        \"traffic_type\": \"string\"\n",
    "                    }).drop([\n",
    "                        \"Unnamed: 0\",\n",
    "                        \"server_fingerprint\",\n",
    "                        \"user_agent\",\n",
    "                        \"content_type\", \n",
    "                        \"src_ip\", \n",
    "                        \"dst_ip\", \n",
    "                        \"splt_direction\", \n",
    "                        \"splt_ps\", \n",
    "                        \"splt_piat_ms\", \n",
    "                        \"application_name\", \n",
    "                        \"application_category_name\", \n",
    "                        \"requested_server_name\", \n",
    "                        \"client_fingerprint\"\n",
    "                    ], axis=1)\n",
    "X = df.drop(['id', 'traffic_type', 'atk_type'], axis=1)\n",
    "y = LabelEncoder().fit_transform(df['atk_type'])"
   ]
  },
  {
   "cell_type": "code",
   "execution_count": 4,
   "id": "b9b2366b-fd54-4016-8d0c-508e65dae6f4",
   "metadata": {},
   "outputs": [],
   "source": [
    "class FeatureSetChromosome(object):\n",
    "    def __init__(self, genes, size):\n",
    "        self.genes = np.random.choice(genes, size)\n",
    "    \n",
    "    def get_genes(self):\n",
    "        return self.genes\n",
    "    \n",
    "    def __len__(self):\n",
    "        return len(self.genes)\n",
    "    \n",
    "    def __iter__(self):\n",
    "        yield from self.genes\n",
    "    \n",
    "    def __getitem__(self, key):\n",
    "        return self.genes[key]\n",
    "    \n",
    "    def __setitem__(self, key, data):\n",
    "        self.genes[key] = data\n",
    "\n",
    "# setting individual creator\n",
    "creator.create('FitnessMax', base.Fitness, weights=(1,))\n",
    "creator.create('Individual', FeatureSetChromosome, fitness=creator.FitnessMax)\n",
    "\n",
    "def mutate(individual, pb=0):\n",
    "    # maximal amount of mutated genes\n",
    "    n_mutated_max = max(1, int(len(individual) * pb))\n",
    "    # generate the random amount of mutated genes\n",
    "    n_mutated = random.randint(1, n_mutated_max)\n",
    "    # select random genes which need to be mutated\n",
    "    mutated_indexes = random.sample(list(range(len(individual))), n_mutated)\n",
    "    # mutation\n",
    "    for index in mutated_indexes:\n",
    "        individual[index] = 0 if individual[index] else 1 # flip between 0s and 1s\n",
    "    return individual,\n",
    "\n",
    "def select_best(individuals, k, fit_attr='fitness'):\n",
    "    return sorted(set(individuals), key=attrgetter(fit_attr))[:k]\n",
    "\n",
    "def evaluate(individual, model, X, y, n_splits=3):\n",
    "    features = [name for name, selected in zip(list(X.columns), individual.get_genes()) if selected == 1]\n",
    "    acc_folds = cross_val_score(\n",
    "        model, \n",
    "        X[features], \n",
    "        y, \n",
    "        cv=n_splits,\n",
    "        scoring='accuracy')\n",
    "    return acc_folds.mean(),\n",
    "\n",
    "class GATransformer(BaseEstimator, TransformerMixin):\n",
    "    def __init__(self, model):   \n",
    "        self.model = model\n",
    "    \n",
    "    def fit(self, X, y=None):\n",
    "        self.feature_names_in_ = list(X.columns)\n",
    "        \n",
    "        def init_individual(ind_class, genes=None, size=None):\n",
    "            return ind_class(genes, size)\n",
    "        \n",
    "        toolbox = base.Toolbox()\n",
    "        \n",
    "        n_features = len(X.columns)\n",
    "        toolbox.register(\n",
    "            'individual', init_individual, creator.Individual,\n",
    "            genes=[0, 1], size=n_features)\n",
    "        toolbox.register(\n",
    "            'population', tools.initRepeat, list, toolbox.individual)\n",
    "\n",
    "        # raise population\n",
    "        self.pop = toolbox.population(10)\n",
    "\n",
    "        toolbox.register('mate', tools.cxTwoPoint)\n",
    "        toolbox.register('mutate', mutate, pb=0.2)\n",
    "        toolbox.register('evaluate', evaluate, model=self.model, X=X, y=y, n_splits=3)\n",
    "        toolbox.register('select', select_best)\n",
    "        \n",
    "        pool = multiprocessing.Pool()\n",
    "        toolbox.register(\"map\", pool.map)\n",
    "        \n",
    "        hof = tools.HallOfFame(3)\n",
    "        algorithms.eaMuPlusLambda(\n",
    "            self.pop, toolbox,\n",
    "            mu=10, lambda_=20, cxpb=0.2, mutpb=0.8,\n",
    "            ngen=15, halloffame=hof, verbose=True)\n",
    "        \n",
    "        self.best_features = hof[0].get_genes()\n",
    "        return self\n",
    "    \n",
    "    def get_feature_names_out(self, input_features=None):\n",
    "        if input_features is not None:\n",
    "            return [name for name, selected in zip(input_features, self.best_features) if selected == 1]\n",
    "        else:\n",
    "            return [name for name, selected in zip(self.feature_names_in_, self.best_features) if selected == 1]\n",
    "        \n",
    "    def transform(self, X, y=None):\n",
    "        features = [name for name, selected in zip(list(X.columns), self.best_features) if selected == 1]\n",
    "        print(len(features), features)\n",
    "        return X[features]\n",
    "    \n",
    "    def get_params(self, deep=True):\n",
    "        return {\"model\": self.model}\n",
    "    \n",
    "    def set_params(self, **parameters):\n",
    "        for parameter, value in parameters.items():\n",
    "            setattr(self, parameter, value)\n",
    "        return self"
   ]
  },
  {
   "cell_type": "code",
   "execution_count": 5,
   "id": "9bd904a2-7ebe-47ea-976d-f4883244a554",
   "metadata": {
    "tags": []
   },
   "outputs": [
    {
     "name": "stdout",
     "output_type": "stream",
     "text": [
      "Fitting 3 folds for each of 3 candidates, totalling 9 fits\n",
      "[CV 1/3] END ....................fs=passthrough;, score=0.727 total time=   3.6s\n",
      "[CV 2/3] END ....................fs=passthrough;, score=1.000 total time=   4.3s\n",
      "[CV 3/3] END ....................fs=passthrough;, score=0.769 total time=   4.8s\n",
      "gen\tnevals\n",
      "0  \t10    \n",
      "1  \t20    \n",
      "2  \t20    \n",
      "3  \t20    \n",
      "4  \t20    \n",
      "5  \t20    \n",
      "6  \t20    \n",
      "7  \t20    \n",
      "8  \t20    \n",
      "9  \t20    \n",
      "10 \t20    \n",
      "11 \t20    \n",
      "12 \t20    \n",
      "13 \t20    \n",
      "14 \t20    \n",
      "15 \t20    \n",
      "30 ['expiration_id', 'src_port', 'dst_port', 'bidirectional_first_seen_ms', 'bidirectional_last_seen_ms', 'src2dst_last_seen_ms', 'src2dst_packets', 'bidirectional_min_ps', 'bidirectional_max_ps', 'src2dst_min_ps', 'src2dst_mean_ps', 'src2dst_max_ps', 'dst2src_min_ps', 'dst2src_mean_ps', 'dst2src_max_ps', 'bidirectional_min_piat_ms', 'bidirectional_max_piat_ms', 'src2dst_max_piat_ms', 'dst2src_stddev_piat_ms', 'dst2src_max_piat_ms', 'bidirectional_cwr_packets', 'bidirectional_fin_packets', 'src2dst_cwr_packets', 'src2dst_ece_packets', 'src2dst_urg_packets', 'dst2src_cwr_packets', 'dst2src_psh_packets', 'dst2src_rst_packets', 'dst2src_fin_packets', 'application_is_guessed']\n",
      "30 ['expiration_id', 'src_port', 'dst_port', 'bidirectional_first_seen_ms', 'bidirectional_last_seen_ms', 'src2dst_last_seen_ms', 'src2dst_packets', 'bidirectional_min_ps', 'bidirectional_max_ps', 'src2dst_min_ps', 'src2dst_mean_ps', 'src2dst_max_ps', 'dst2src_min_ps', 'dst2src_mean_ps', 'dst2src_max_ps', 'bidirectional_min_piat_ms', 'bidirectional_max_piat_ms', 'src2dst_max_piat_ms', 'dst2src_stddev_piat_ms', 'dst2src_max_piat_ms', 'bidirectional_cwr_packets', 'bidirectional_fin_packets', 'src2dst_cwr_packets', 'src2dst_ece_packets', 'src2dst_urg_packets', 'dst2src_cwr_packets', 'dst2src_psh_packets', 'dst2src_rst_packets', 'dst2src_fin_packets', 'application_is_guessed']\n",
      "[CV 1/3] END fs=GATransformer(model=GaussianNB());, score=0.820 total time=  26.6s\n",
      "gen\tnevals\n",
      "0  \t10    \n",
      "1  \t20    \n",
      "2  \t20    \n",
      "3  \t20    \n",
      "4  \t20    \n",
      "5  \t20    \n",
      "6  \t20    \n",
      "7  \t20    \n",
      "8  \t20    \n",
      "9  \t20    \n",
      "10 \t20    \n",
      "11 \t20    \n",
      "12 \t20    \n",
      "13 \t20    \n",
      "14 \t20    \n",
      "15 \t20    \n",
      "36 ['expiration_id', 'src_port', 'dst_ip_is_private', 'dst_port', 'ip_version', 'vlan_id', 'bidirectional_last_seen_ms', 'bidirectional_duration_ms', 'src2dst_last_seen_ms', 'src2dst_duration_ms', 'src2dst_bytes', 'dst2src_duration_ms', 'bidirectional_min_ps', 'bidirectional_mean_ps', 'bidirectional_stddev_ps', 'bidirectional_max_ps', 'src2dst_min_ps', 'src2dst_mean_ps', 'src2dst_stddev_ps', 'dst2src_min_ps', 'dst2src_mean_ps', 'dst2src_max_ps', 'src2dst_max_piat_ms', 'dst2src_mean_piat_ms', 'dst2src_stddev_piat_ms', 'dst2src_max_piat_ms', 'bidirectional_cwr_packets', 'bidirectional_ece_packets', 'bidirectional_rst_packets', 'src2dst_rst_packets', 'src2dst_fin_packets', 'dst2src_syn_packets', 'dst2src_ack_packets', 'dst2src_rst_packets', 'dst2src_fin_packets', 'application_is_guessed']\n",
      "36 ['expiration_id', 'src_port', 'dst_ip_is_private', 'dst_port', 'ip_version', 'vlan_id', 'bidirectional_last_seen_ms', 'bidirectional_duration_ms', 'src2dst_last_seen_ms', 'src2dst_duration_ms', 'src2dst_bytes', 'dst2src_duration_ms', 'bidirectional_min_ps', 'bidirectional_mean_ps', 'bidirectional_stddev_ps', 'bidirectional_max_ps', 'src2dst_min_ps', 'src2dst_mean_ps', 'src2dst_stddev_ps', 'dst2src_min_ps', 'dst2src_mean_ps', 'dst2src_max_ps', 'src2dst_max_piat_ms', 'dst2src_mean_piat_ms', 'dst2src_stddev_piat_ms', 'dst2src_max_piat_ms', 'bidirectional_cwr_packets', 'bidirectional_ece_packets', 'bidirectional_rst_packets', 'src2dst_rst_packets', 'src2dst_fin_packets', 'dst2src_syn_packets', 'dst2src_ack_packets', 'dst2src_rst_packets', 'dst2src_fin_packets', 'application_is_guessed']\n",
      "[CV 2/3] END fs=GATransformer(model=GaussianNB());, score=1.000 total time=  31.6s\n",
      "gen\tnevals\n",
      "0  \t10    \n",
      "1  \t20    \n",
      "2  \t20    \n",
      "3  \t20    \n",
      "4  \t20    \n",
      "5  \t20    \n",
      "6  \t20    \n",
      "7  \t20    \n",
      "8  \t20    \n",
      "9  \t20    \n",
      "10 \t20    \n",
      "11 \t20    \n",
      "12 \t20    \n",
      "13 \t20    \n",
      "14 \t20    \n",
      "15 \t20    \n",
      "32 ['src_port', 'dst_ip_is_private', 'ip_version', 'vlan_id', 'bidirectional_first_seen_ms', 'bidirectional_last_seen_ms', 'bidirectional_duration_ms', 'src2dst_bytes', 'dst2src_duration_ms', 'dst2src_bytes', 'bidirectional_mean_ps', 'bidirectional_max_ps', 'src2dst_mean_ps', 'dst2src_min_ps', 'dst2src_mean_ps', 'dst2src_stddev_ps', 'src2dst_min_piat_ms', 'dst2src_stddev_piat_ms', 'bidirectional_cwr_packets', 'bidirectional_ece_packets', 'bidirectional_urg_packets', 'bidirectional_psh_packets', 'bidirectional_fin_packets', 'src2dst_ece_packets', 'src2dst_urg_packets', 'src2dst_psh_packets', 'src2dst_rst_packets', 'src2dst_fin_packets', 'dst2src_syn_packets', 'dst2src_cwr_packets', 'dst2src_urg_packets', 'dst2src_rst_packets']\n"
     ]
    },
    {
     "name": "stderr",
     "output_type": "stream",
     "text": [
      "2023-04-24 23:04:24,017 - pyswarms.discrete.binary - INFO - Optimize for 180 iters with {'c1': 0.5, 'c2': 0.5, 'w': 0.9, 'k': 10, 'p': 2}\n"
     ]
    },
    {
     "name": "stdout",
     "output_type": "stream",
     "text": [
      "32 ['src_port', 'dst_ip_is_private', 'ip_version', 'vlan_id', 'bidirectional_first_seen_ms', 'bidirectional_last_seen_ms', 'bidirectional_duration_ms', 'src2dst_bytes', 'dst2src_duration_ms', 'dst2src_bytes', 'bidirectional_mean_ps', 'bidirectional_max_ps', 'src2dst_mean_ps', 'dst2src_min_ps', 'dst2src_mean_ps', 'dst2src_stddev_ps', 'src2dst_min_piat_ms', 'dst2src_stddev_piat_ms', 'bidirectional_cwr_packets', 'bidirectional_ece_packets', 'bidirectional_urg_packets', 'bidirectional_psh_packets', 'bidirectional_fin_packets', 'src2dst_ece_packets', 'src2dst_urg_packets', 'src2dst_psh_packets', 'src2dst_rst_packets', 'src2dst_fin_packets', 'dst2src_syn_packets', 'dst2src_cwr_packets', 'dst2src_urg_packets', 'dst2src_rst_packets']\n",
      "[CV 3/3] END fs=GATransformer(model=GaussianNB());, score=0.748 total time=  32.7s\n"
     ]
    },
    {
     "name": "stderr",
     "output_type": "stream",
     "text": [
      "pyswarms.discrete.binary: 100%|███████████████████████████████████████|180/180, best_cost=0.0258\n",
      "2023-04-24 23:06:57,804 - pyswarms.discrete.binary - INFO - Optimization finished | best cost: 0.02576321387661594, best pos: [1 1 1 1 0 1 1 1 0 1 1 1 1 1 1 1 1 1 1 1 1 1 1 0 1 1 1 1 1 0 0 1 1 1 1 1 0\n",
      " 0 1 1 1 0 1 1 1 1 1 1 0 1 0 1 0 1 1 1 1 1 1 1 1 1 1 0 0 1 1 0 1 1 1 0]\n"
     ]
    },
    {
     "name": "stdout",
     "output_type": "stream",
     "text": [
      "57 ['expiration_id', 'src_ip_is_private', 'src_port', 'dst_ip_is_private', 'protocol', 'ip_version', 'vlan_id', 'bidirectional_last_seen_ms', 'bidirectional_duration_ms', 'bidirectional_packets', 'bidirectional_bytes', 'src2dst_first_seen_ms', 'src2dst_last_seen_ms', 'src2dst_duration_ms', 'src2dst_packets', 'src2dst_bytes', 'dst2src_first_seen_ms', 'dst2src_last_seen_ms', 'dst2src_duration_ms', 'dst2src_packets', 'dst2src_bytes', 'bidirectional_mean_ps', 'bidirectional_stddev_ps', 'bidirectional_max_ps', 'src2dst_min_ps', 'src2dst_mean_ps', 'dst2src_min_ps', 'dst2src_mean_ps', 'dst2src_stddev_ps', 'dst2src_max_ps', 'bidirectional_min_piat_ms', 'bidirectional_max_piat_ms', 'src2dst_min_piat_ms', 'src2dst_mean_piat_ms', 'src2dst_max_piat_ms', 'dst2src_min_piat_ms', 'dst2src_mean_piat_ms', 'dst2src_stddev_piat_ms', 'dst2src_max_piat_ms', 'bidirectional_syn_packets', 'bidirectional_ece_packets', 'bidirectional_ack_packets', 'bidirectional_rst_packets', 'bidirectional_fin_packets', 'src2dst_syn_packets', 'src2dst_cwr_packets', 'src2dst_ece_packets', 'src2dst_urg_packets', 'src2dst_ack_packets', 'src2dst_psh_packets', 'src2dst_rst_packets', 'src2dst_fin_packets', 'dst2src_ece_packets', 'dst2src_urg_packets', 'dst2src_psh_packets', 'dst2src_rst_packets', 'dst2src_fin_packets']\n"
     ]
    },
    {
     "name": "stderr",
     "output_type": "stream",
     "text": [
      "2023-04-24 23:07:01,122 - pyswarms.discrete.binary - INFO - Optimize for 180 iters with {'c1': 0.5, 'c2': 0.5, 'w': 0.9, 'k': 10, 'p': 2}\n"
     ]
    },
    {
     "name": "stdout",
     "output_type": "stream",
     "text": [
      "57 ['expiration_id', 'src_ip_is_private', 'src_port', 'dst_ip_is_private', 'protocol', 'ip_version', 'vlan_id', 'bidirectional_last_seen_ms', 'bidirectional_duration_ms', 'bidirectional_packets', 'bidirectional_bytes', 'src2dst_first_seen_ms', 'src2dst_last_seen_ms', 'src2dst_duration_ms', 'src2dst_packets', 'src2dst_bytes', 'dst2src_first_seen_ms', 'dst2src_last_seen_ms', 'dst2src_duration_ms', 'dst2src_packets', 'dst2src_bytes', 'bidirectional_mean_ps', 'bidirectional_stddev_ps', 'bidirectional_max_ps', 'src2dst_min_ps', 'src2dst_mean_ps', 'dst2src_min_ps', 'dst2src_mean_ps', 'dst2src_stddev_ps', 'dst2src_max_ps', 'bidirectional_min_piat_ms', 'bidirectional_max_piat_ms', 'src2dst_min_piat_ms', 'src2dst_mean_piat_ms', 'src2dst_max_piat_ms', 'dst2src_min_piat_ms', 'dst2src_mean_piat_ms', 'dst2src_stddev_piat_ms', 'dst2src_max_piat_ms', 'bidirectional_syn_packets', 'bidirectional_ece_packets', 'bidirectional_ack_packets', 'bidirectional_rst_packets', 'bidirectional_fin_packets', 'src2dst_syn_packets', 'src2dst_cwr_packets', 'src2dst_ece_packets', 'src2dst_urg_packets', 'src2dst_ack_packets', 'src2dst_psh_packets', 'src2dst_rst_packets', 'src2dst_fin_packets', 'dst2src_ece_packets', 'dst2src_urg_packets', 'dst2src_psh_packets', 'dst2src_rst_packets', 'dst2src_fin_packets']\n",
      "[CV 1/3] END fs=PSOTransformer(model=GaussianNB());, score=0.729 total time= 2.6min\n"
     ]
    },
    {
     "name": "stderr",
     "output_type": "stream",
     "text": [
      "pyswarms.discrete.binary: 100%|███████████████████████████████████████|180/180, best_cost=0.0324\n",
      "2023-04-24 23:09:34,857 - pyswarms.discrete.binary - INFO - Optimization finished | best cost: 0.03242677139584354, best pos: [1 1 0 0 0 1 1 1 1 0 1 0 0 1 1 1 1 0 1 1 1 1 1 1 1 1 0 0 1 1 1 0 1 1 1 1 1\n",
      " 1 1 1 1 1 1 1 1 1 1 1 0 1 1 1 1 1 1 1 1 1 1 1 1 1 1 0 1 0 1 0 1 0 0 1]\n"
     ]
    },
    {
     "name": "stdout",
     "output_type": "stream",
     "text": [
      "56 ['expiration_id', 'src_ip_is_private', 'protocol', 'ip_version', 'vlan_id', 'bidirectional_first_seen_ms', 'bidirectional_duration_ms', 'src2dst_first_seen_ms', 'src2dst_last_seen_ms', 'src2dst_duration_ms', 'src2dst_packets', 'dst2src_first_seen_ms', 'dst2src_last_seen_ms', 'dst2src_duration_ms', 'dst2src_packets', 'dst2src_bytes', 'bidirectional_min_ps', 'bidirectional_mean_ps', 'bidirectional_stddev_ps', 'src2dst_mean_ps', 'src2dst_stddev_ps', 'src2dst_max_ps', 'dst2src_mean_ps', 'dst2src_stddev_ps', 'dst2src_max_ps', 'bidirectional_min_piat_ms', 'bidirectional_mean_piat_ms', 'bidirectional_stddev_piat_ms', 'bidirectional_max_piat_ms', 'src2dst_min_piat_ms', 'src2dst_mean_piat_ms', 'src2dst_stddev_piat_ms', 'src2dst_max_piat_ms', 'dst2src_min_piat_ms', 'dst2src_mean_piat_ms', 'dst2src_stddev_piat_ms', 'dst2src_max_piat_ms', 'bidirectional_syn_packets', 'bidirectional_ece_packets', 'bidirectional_urg_packets', 'bidirectional_ack_packets', 'bidirectional_psh_packets', 'bidirectional_rst_packets', 'bidirectional_fin_packets', 'src2dst_syn_packets', 'src2dst_cwr_packets', 'src2dst_ece_packets', 'src2dst_urg_packets', 'src2dst_ack_packets', 'src2dst_psh_packets', 'src2dst_rst_packets', 'src2dst_fin_packets', 'dst2src_cwr_packets', 'dst2src_urg_packets', 'dst2src_psh_packets', 'application_is_guessed']\n"
     ]
    },
    {
     "name": "stderr",
     "output_type": "stream",
     "text": [
      "2023-04-24 23:09:39,005 - pyswarms.discrete.binary - INFO - Optimize for 180 iters with {'c1': 0.5, 'c2': 0.5, 'w': 0.9, 'k': 10, 'p': 2}\n"
     ]
    },
    {
     "name": "stdout",
     "output_type": "stream",
     "text": [
      "56 ['expiration_id', 'src_ip_is_private', 'protocol', 'ip_version', 'vlan_id', 'bidirectional_first_seen_ms', 'bidirectional_duration_ms', 'src2dst_first_seen_ms', 'src2dst_last_seen_ms', 'src2dst_duration_ms', 'src2dst_packets', 'dst2src_first_seen_ms', 'dst2src_last_seen_ms', 'dst2src_duration_ms', 'dst2src_packets', 'dst2src_bytes', 'bidirectional_min_ps', 'bidirectional_mean_ps', 'bidirectional_stddev_ps', 'src2dst_mean_ps', 'src2dst_stddev_ps', 'src2dst_max_ps', 'dst2src_mean_ps', 'dst2src_stddev_ps', 'dst2src_max_ps', 'bidirectional_min_piat_ms', 'bidirectional_mean_piat_ms', 'bidirectional_stddev_piat_ms', 'bidirectional_max_piat_ms', 'src2dst_min_piat_ms', 'src2dst_mean_piat_ms', 'src2dst_stddev_piat_ms', 'src2dst_max_piat_ms', 'dst2src_min_piat_ms', 'dst2src_mean_piat_ms', 'dst2src_stddev_piat_ms', 'dst2src_max_piat_ms', 'bidirectional_syn_packets', 'bidirectional_ece_packets', 'bidirectional_urg_packets', 'bidirectional_ack_packets', 'bidirectional_psh_packets', 'bidirectional_rst_packets', 'bidirectional_fin_packets', 'src2dst_syn_packets', 'src2dst_cwr_packets', 'src2dst_ece_packets', 'src2dst_urg_packets', 'src2dst_ack_packets', 'src2dst_psh_packets', 'src2dst_rst_packets', 'src2dst_fin_packets', 'dst2src_cwr_packets', 'dst2src_urg_packets', 'dst2src_psh_packets', 'application_is_guessed']\n",
      "[CV 2/3] END fs=PSOTransformer(model=GaussianNB());, score=1.000 total time= 2.6min\n"
     ]
    },
    {
     "name": "stderr",
     "output_type": "stream",
     "text": [
      "pyswarms.discrete.binary: 100%|███████████████████████████████████████|180/180, best_cost=0.0294\n",
      "2023-04-24 23:12:12,465 - pyswarms.discrete.binary - INFO - Optimization finished | best cost: 0.02940271641302568, best pos: [1 1 1 0 1 0 1 1 1 1 1 1 1 1 1 1 1 1 1 1 0 1 1 1 1 1 1 0 1 0 1 1 0 1 1 1 1\n",
      " 0 1 1 0 0 1 1 0 1 0 1 1 1 1 1 1 1 1 1 0 0 1 1 1 1 1 1 1 0 1 0 1 0 1 1]\n"
     ]
    },
    {
     "name": "stdout",
     "output_type": "stream",
     "text": [
      "56 ['expiration_id', 'src_ip_is_private', 'src_port', 'dst_port', 'ip_version', 'vlan_id', 'bidirectional_first_seen_ms', 'bidirectional_last_seen_ms', 'bidirectional_duration_ms', 'bidirectional_packets', 'bidirectional_bytes', 'src2dst_first_seen_ms', 'src2dst_last_seen_ms', 'src2dst_duration_ms', 'src2dst_packets', 'src2dst_bytes', 'dst2src_first_seen_ms', 'dst2src_last_seen_ms', 'dst2src_packets', 'dst2src_bytes', 'bidirectional_min_ps', 'bidirectional_mean_ps', 'bidirectional_stddev_ps', 'bidirectional_max_ps', 'src2dst_mean_ps', 'src2dst_max_ps', 'dst2src_min_ps', 'dst2src_stddev_ps', 'dst2src_max_ps', 'bidirectional_min_piat_ms', 'bidirectional_mean_piat_ms', 'bidirectional_max_piat_ms', 'src2dst_min_piat_ms', 'src2dst_max_piat_ms', 'dst2src_min_piat_ms', 'dst2src_stddev_piat_ms', 'bidirectional_syn_packets', 'bidirectional_cwr_packets', 'bidirectional_ece_packets', 'bidirectional_urg_packets', 'bidirectional_ack_packets', 'bidirectional_psh_packets', 'bidirectional_rst_packets', 'bidirectional_fin_packets', 'src2dst_syn_packets', 'src2dst_urg_packets', 'src2dst_ack_packets', 'src2dst_psh_packets', 'src2dst_rst_packets', 'src2dst_fin_packets', 'dst2src_syn_packets', 'dst2src_cwr_packets', 'dst2src_urg_packets', 'dst2src_psh_packets', 'dst2src_fin_packets', 'application_is_guessed']\n",
      "56 ['expiration_id', 'src_ip_is_private', 'src_port', 'dst_port', 'ip_version', 'vlan_id', 'bidirectional_first_seen_ms', 'bidirectional_last_seen_ms', 'bidirectional_duration_ms', 'bidirectional_packets', 'bidirectional_bytes', 'src2dst_first_seen_ms', 'src2dst_last_seen_ms', 'src2dst_duration_ms', 'src2dst_packets', 'src2dst_bytes', 'dst2src_first_seen_ms', 'dst2src_last_seen_ms', 'dst2src_packets', 'dst2src_bytes', 'bidirectional_min_ps', 'bidirectional_mean_ps', 'bidirectional_stddev_ps', 'bidirectional_max_ps', 'src2dst_mean_ps', 'src2dst_max_ps', 'dst2src_min_ps', 'dst2src_stddev_ps', 'dst2src_max_ps', 'bidirectional_min_piat_ms', 'bidirectional_mean_piat_ms', 'bidirectional_max_piat_ms', 'src2dst_min_piat_ms', 'src2dst_max_piat_ms', 'dst2src_min_piat_ms', 'dst2src_stddev_piat_ms', 'bidirectional_syn_packets', 'bidirectional_cwr_packets', 'bidirectional_ece_packets', 'bidirectional_urg_packets', 'bidirectional_ack_packets', 'bidirectional_psh_packets', 'bidirectional_rst_packets', 'bidirectional_fin_packets', 'src2dst_syn_packets', 'src2dst_urg_packets', 'src2dst_ack_packets', 'src2dst_psh_packets', 'src2dst_rst_packets', 'src2dst_fin_packets', 'dst2src_syn_packets', 'dst2src_cwr_packets', 'dst2src_urg_packets', 'dst2src_psh_packets', 'dst2src_fin_packets', 'application_is_guessed']\n",
      "[CV 3/3] END fs=PSOTransformer(model=GaussianNB());, score=0.770 total time= 2.6min\n",
      "gen\tnevals\n",
      "0  \t10    \n",
      "1  \t20    \n",
      "2  \t20    \n",
      "3  \t20    \n",
      "4  \t20    \n",
      "5  \t20    \n",
      "6  \t20    \n",
      "7  \t20    \n",
      "8  \t20    \n",
      "9  \t20    \n",
      "10 \t20    \n",
      "11 \t20    \n",
      "12 \t20    \n",
      "13 \t20    \n",
      "14 \t20    \n",
      "15 \t20    \n",
      "31 ['expiration_id', 'ip_version', 'bidirectional_first_seen_ms', 'src2dst_last_seen_ms', 'src2dst_bytes', 'dst2src_first_seen_ms', 'dst2src_packets', 'bidirectional_mean_ps', 'bidirectional_max_ps', 'src2dst_mean_ps', 'src2dst_max_ps', 'dst2src_stddev_ps', 'bidirectional_min_piat_ms', 'bidirectional_max_piat_ms', 'src2dst_mean_piat_ms', 'src2dst_stddev_piat_ms', 'src2dst_max_piat_ms', 'dst2src_stddev_piat_ms', 'dst2src_max_piat_ms', 'bidirectional_ece_packets', 'bidirectional_urg_packets', 'bidirectional_psh_packets', 'bidirectional_rst_packets', 'bidirectional_fin_packets', 'src2dst_syn_packets', 'src2dst_urg_packets', 'src2dst_rst_packets', 'src2dst_fin_packets', 'dst2src_cwr_packets', 'dst2src_urg_packets', 'dst2src_fin_packets']\n",
      "Best parameter (CV score=0.856):\n",
      "{'fs': GATransformer(model=GaussianNB())}\n"
     ]
    }
   ],
   "source": [
    "set_config(transform_output=\"pandas\")\n",
    "classifier = XGBClassifier(n_estimators = 500,\n",
    "                           max_depth = 7,\n",
    "                           learning_rate = 0.1,\n",
    "                           verbose=None,\n",
    "                           tree_method='gpu_hist',\n",
    "                           eval_metric='logloss')\n",
    "scaler = StandardScaler()\n",
    "pipe = Pipeline(\n",
    "    [\n",
    "        (\"scaling\", scaler),\n",
    "        (\"fs\", \"passthrough\"),\n",
    "        (\"classify\", classifier)\n",
    "    ]\n",
    ")\n",
    "\n",
    "param_grid = [\n",
    "    {\n",
    "        \"fs\": [\"passthrough\",\n",
    "               GATransformer(model=GaussianNB()), \n",
    "               PSOTransformer(model=GaussianNB())]\n",
    "    }\n",
    "]\n",
    "\n",
    "search = GridSearchCV(pipe, param_grid, cv=3, verbose=4)\n",
    "search.fit(X, y)\n",
    "print(\"Best parameter (CV score=%0.3f):\" % search.best_score_)\n",
    "print(search.best_params_)"
   ]
  },
  {
   "cell_type": "code",
   "execution_count": 6,
   "id": "90b530d1-fad1-44da-bced-fc1ee60d3925",
   "metadata": {
    "tags": []
   },
   "outputs": [],
   "source": [
    "with open(\"fs_results.score\", \"wb\") as handle:\n",
    "    pickle.dump(search.cv_results_, handle)"
   ]
  },
  {
   "cell_type": "code",
   "execution_count": 7,
   "id": "11c0f467-9869-45c2-a40d-13dd3d27f8b2",
   "metadata": {
    "tags": []
   },
   "outputs": [
    {
     "name": "stdout",
     "output_type": "stream",
     "text": [
      "{'fit_time': array([3.4447794 , 4.15493917, 4.49056602]), 'score_time': array([0.08846116, 0.13968325, 0.14218163]), 'test_score': array([0.72721322, 1.        , 0.76851579])}\n"
     ]
    }
   ],
   "source": [
    "no_fs_scores = cross_validate(pipe, X, y, cv=3)\n",
    "print(no_fs_scores)\n",
    "with open(\"no_fs_results.score\", \"wb\") as handle:\n",
    "    pickle.dump(no_fs_scores, handle)"
   ]
  },
  {
   "cell_type": "code",
   "execution_count": 8,
   "id": "ee85d098-0dd9-437c-9b8a-2b31180cb485",
   "metadata": {
    "tags": []
   },
   "outputs": [
    {
     "data": {
      "text/plain": [
       "0.8319096710849289"
      ]
     },
     "execution_count": 8,
     "metadata": {},
     "output_type": "execute_result"
    }
   ],
   "source": [
    "np.mean(no_fs_scores['test_score'])"
   ]
  }
 ],
 "metadata": {
  "kernelspec": {
   "display_name": "Python [conda env:ccd]",
   "language": "python",
   "name": "conda-env-ccd-py"
  },
  "language_info": {
   "codemirror_mode": {
    "name": "ipython",
    "version": 3
   },
   "file_extension": ".py",
   "mimetype": "text/x-python",
   "name": "python",
   "nbconvert_exporter": "python",
   "pygments_lexer": "ipython3",
   "version": "3.10.9"
  }
 },
 "nbformat": 4,
 "nbformat_minor": 5
}
