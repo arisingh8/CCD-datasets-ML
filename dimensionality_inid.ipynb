{
 "cells": [
  {
   "cell_type": "code",
   "execution_count": 1,
   "id": "ed170f67-69f0-4285-a620-42605baf43be",
   "metadata": {},
   "outputs": [],
   "source": [
    "import numpy as np\n",
    "from matplotlib import pyplot as plt\n",
    "from tqdm import tqdm\n",
    "import pandas as pd\n",
    "\n",
    "from sklearn.decomposition import PCA\n",
    "from sklearn.pipeline import Pipeline\n",
    "from sklearn.preprocessing import MinMaxScaler, LabelEncoder\n",
    "from sklearn.model_selection import KFold\n",
    "from sklearn.model_selection import GridSearchCV\n",
    "\n",
    "import xgboost as xgb\n",
    "from xgboost import XGBClassifier"
   ]
  },
  {
   "cell_type": "code",
   "execution_count": 2,
   "id": "eaa87051-160b-4fda-b092-f3c8db1b8487",
   "metadata": {
    "tags": []
   },
   "outputs": [],
   "source": [
    "df = pd.read_csv(\"data/merged_and_edited_dataset.csv\",\n",
    "                dtype={\n",
    "                        \"src_ip\": \"string\",\n",
    "                        \"dst_ip\": \"string\",\n",
    "                        \"client_fingerprint\": \"string\",\n",
    "                        \"application_name\": \"string\",\n",
    "                        \"application_category_name\": \"string\",\n",
    "                        \"requested_server_name\": \"string\",\n",
    "                        \"atk_type\": \"string\",\n",
    "                        \"traffic_type\": \"string\"\n",
    "                    }).drop([\n",
    "                        \"Unnamed: 0\",\n",
    "                        \"server_fingerprint\",\n",
    "                        \"user_agent\",\n",
    "                        \"content_type\", \n",
    "                        \"src_ip\", \n",
    "                        \"dst_ip\", \n",
    "                        \"splt_direction\", \n",
    "                        \"splt_ps\", \n",
    "                        \"splt_piat_ms\", \n",
    "                        \"application_name\", \n",
    "                        \"application_category_name\", \n",
    "                        \"requested_server_name\", \n",
    "                        \"client_fingerprint\"\n",
    "                    ], axis=1)\n",
    "X = df.drop(['id', 'traffic_type', 'atk_type'], axis=1)\n",
    "y = LabelEncoder().fit_transform(df['atk_type'])"
   ]
  },
  {
   "cell_type": "code",
   "execution_count": 3,
   "id": "9bd904a2-7ebe-47ea-976d-f4883244a554",
   "metadata": {
    "tags": []
   },
   "outputs": [
    {
     "name": "stdout",
     "output_type": "stream",
     "text": [
      "Fitting 5 folds for each of 7 candidates, totalling 35 fits\n",
      "[CV 1/5] END ......fs=PCA(), fs__n_components=5;, score=0.957 total time=   5.4s\n",
      "[CV 2/5] END ......fs=PCA(), fs__n_components=5;, score=0.984 total time=   5.2s\n",
      "[CV 3/5] END ......fs=PCA(), fs__n_components=5;, score=0.988 total time=   5.1s\n",
      "[CV 4/5] END ......fs=PCA(), fs__n_components=5;, score=0.986 total time=   4.8s\n",
      "[CV 5/5] END ......fs=PCA(), fs__n_components=5;, score=0.974 total time=   5.0s\n",
      "[CV 1/5] END .....fs=PCA(), fs__n_components=15;, score=0.958 total time=   5.9s\n",
      "[CV 2/5] END .....fs=PCA(), fs__n_components=15;, score=0.988 total time=   5.7s\n",
      "[CV 3/5] END .....fs=PCA(), fs__n_components=15;, score=0.990 total time=   6.3s\n",
      "[CV 4/5] END .....fs=PCA(), fs__n_components=15;, score=0.988 total time=   5.7s\n",
      "[CV 5/5] END .....fs=PCA(), fs__n_components=15;, score=0.977 total time=   5.8s\n",
      "[CV 1/5] END .....fs=PCA(), fs__n_components=25;, score=0.957 total time=   7.3s\n",
      "[CV 2/5] END .....fs=PCA(), fs__n_components=25;, score=0.987 total time=   7.4s\n",
      "[CV 3/5] END .....fs=PCA(), fs__n_components=25;, score=0.989 total time=   7.1s\n",
      "[CV 4/5] END .....fs=PCA(), fs__n_components=25;, score=0.988 total time=   7.3s\n",
      "[CV 5/5] END .....fs=PCA(), fs__n_components=25;, score=0.975 total time=   7.7s\n",
      "[CV 1/5] END .....fs=PCA(), fs__n_components=35;, score=0.957 total time=   7.8s\n",
      "[CV 2/5] END .....fs=PCA(), fs__n_components=35;, score=0.985 total time=   9.1s\n",
      "[CV 3/5] END .....fs=PCA(), fs__n_components=35;, score=0.989 total time=   8.3s\n",
      "[CV 4/5] END .....fs=PCA(), fs__n_components=35;, score=0.986 total time=   8.3s\n",
      "[CV 5/5] END .....fs=PCA(), fs__n_components=35;, score=0.973 total time=   7.7s\n",
      "[CV 1/5] END .....fs=PCA(), fs__n_components=45;, score=0.958 total time=   8.7s\n",
      "[CV 2/5] END .....fs=PCA(), fs__n_components=45;, score=0.985 total time=   9.0s\n",
      "[CV 3/5] END .....fs=PCA(), fs__n_components=45;, score=0.989 total time=   8.3s\n",
      "[CV 4/5] END .....fs=PCA(), fs__n_components=45;, score=0.985 total time=   8.6s\n",
      "[CV 5/5] END .....fs=PCA(), fs__n_components=45;, score=0.972 total time=   8.7s\n",
      "[CV 1/5] END .....fs=PCA(), fs__n_components=55;, score=0.958 total time=   9.5s\n",
      "[CV 2/5] END .....fs=PCA(), fs__n_components=55;, score=0.983 total time=   9.8s\n",
      "[CV 3/5] END .....fs=PCA(), fs__n_components=55;, score=0.987 total time=   9.4s\n",
      "[CV 4/5] END .....fs=PCA(), fs__n_components=55;, score=0.981 total time=   9.4s\n",
      "[CV 5/5] END .....fs=PCA(), fs__n_components=55;, score=0.969 total time=   9.5s\n",
      "[CV 1/5] END .....fs=PCA(), fs__n_components=65;, score=0.943 total time=   9.1s\n",
      "[CV 2/5] END .....fs=PCA(), fs__n_components=65;, score=0.961 total time=   9.7s\n",
      "[CV 3/5] END .....fs=PCA(), fs__n_components=65;, score=0.980 total time=   9.4s\n",
      "[CV 4/5] END .....fs=PCA(), fs__n_components=65;, score=0.980 total time=   9.5s\n",
      "[CV 5/5] END .....fs=PCA(), fs__n_components=65;, score=0.962 total time=   9.6s\n",
      "Best parameter (CV score=0.980):\n",
      "{'fs': PCA(n_components=15), 'fs__n_components': 15}\n"
     ]
    }
   ],
   "source": [
    "classifier = XGBClassifier(n_estimators = 500,\n",
    "                           max_depth = 7,\n",
    "                           learning_rate = 0.1,\n",
    "                           verbose=None,\n",
    "                           eval_metric='logloss', \n",
    "                           tree_method=\"gpu_hist\")\n",
    "scaler = MinMaxScaler()\n",
    "pipe = Pipeline(\n",
    "    [\n",
    "        (\"scaling\", scaler),\n",
    "        (\"fs\", \"passthrough\"),\n",
    "        (\"classify\", classifier)\n",
    "    ],\n",
    "    memory = \"cache/\"\n",
    ")\n",
    "\n",
    "param_grid = [\n",
    "    {\n",
    "        \"fs\": [PCA()],\n",
    "        \"fs__n_components\": np.arange(5, len(X.columns), 10)\n",
    "    }\n",
    "]\n",
    "\n",
    "search = GridSearchCV(pipe, param_grid, cv=5, verbose=4)\n",
    "search.fit(X, y)\n",
    "print(\"Best parameter (CV score=%0.3f):\" % search.best_score_)\n",
    "print(search.best_params_)"
   ]
  }
 ],
 "metadata": {
  "kernelspec": {
   "display_name": "Python [conda env:ccd]",
   "language": "python",
   "name": "conda-env-ccd-py"
  },
  "language_info": {
   "codemirror_mode": {
    "name": "ipython",
    "version": 3
   },
   "file_extension": ".py",
   "mimetype": "text/x-python",
   "name": "python",
   "nbconvert_exporter": "python",
   "pygments_lexer": "ipython3",
   "version": "3.10.9"
  }
 },
 "nbformat": 4,
 "nbformat_minor": 5
}
